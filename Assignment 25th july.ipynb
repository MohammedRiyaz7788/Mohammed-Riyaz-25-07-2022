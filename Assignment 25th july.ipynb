{
 "cells": [
  {
   "cell_type": "code",
   "execution_count": 3,
   "id": "4cd8d0bf",
   "metadata": {},
   "outputs": [
    {
     "name": "stdout",
     "output_type": "stream",
     "text": [
      "enter any alphabetabcde\n",
      "AbCdE\n"
     ]
    }
   ],
   "source": [
    "y=input(\"enter any alphabet\")\n",
    "x=0\n",
    "k=\"\"\n",
    "while x<len(y):\n",
    "    if x%2==0:\n",
    "        k=k+(y[x].upper())\n",
    "    else:\n",
    "        k=k+(y[x])\n",
    "    x=x+1\n",
    "print(k)"
   ]
  },
  {
   "cell_type": "code",
   "execution_count": 4,
   "id": "bb9d0036",
   "metadata": {},
   "outputs": [
    {
     "name": "stdout",
     "output_type": "stream",
     "text": [
      "<class 'str'>\n",
      "<class 'int'>\n",
      "<class 'float'>\n",
      "<class 'complex'>\n"
     ]
    }
   ],
   "source": [
    "y=[\"a\",22,2.2,1+2j]\n",
    "x=0\n",
    "while x<len(y):\n",
    "    print(type(y[x]))\n",
    "    x=x+1"
   ]
  },
  {
   "cell_type": "code",
   "execution_count": 1,
   "id": "7fbee732",
   "metadata": {},
   "outputs": [
    {
     "name": "stdout",
     "output_type": "stream",
     "text": [
      "alphabet= abcdef\n",
      "number= 6\n"
     ]
    }
   ],
   "source": [
    "x=['a','b','c','d','1','2','3','e','f']\n",
    "y=0\n",
    "w=''\n",
    "v=0\n",
    "while y<len(x):\n",
    "    if x[y].isalpha():\n",
    "        w=w+x[y]\n",
    "    else:\n",
    "        v=v+int(x[y])\n",
    "    y=y+1\n",
    "print('alphabet=',w)\n",
    "print('number=',v)"
   ]
  },
  {
   "cell_type": "code",
   "execution_count": 2,
   "id": "154b5018",
   "metadata": {},
   "outputs": [
    {
     "name": "stdout",
     "output_type": "stream",
     "text": [
      "abde\n",
      "10\n"
     ]
    }
   ],
   "source": [
    "x=[\"a\",\"b\",\"1\",\"2\",\"3\",\"d\",\"e\",\"4\"]\n",
    "i=0\n",
    "k=\"\"\n",
    "c=0\n",
    "while i<len(x):\n",
    "    if x[i].isalpha():\n",
    "        k=k+x[i]\n",
    "    else:\n",
    "        c=c+int(x[i])\n",
    "    i=i+1\n",
    "print(k)\n",
    "print(c)"
   ]
  },
  {
   "cell_type": "code",
   "execution_count": null,
   "id": "00c28508",
   "metadata": {},
   "outputs": [],
   "source": []
  }
 ],
 "metadata": {
  "kernelspec": {
   "display_name": "Python 3 (ipykernel)",
   "language": "python",
   "name": "python3"
  },
  "language_info": {
   "codemirror_mode": {
    "name": "ipython",
    "version": 3
   },
   "file_extension": ".py",
   "mimetype": "text/x-python",
   "name": "python",
   "nbconvert_exporter": "python",
   "pygments_lexer": "ipython3",
   "version": "3.9.12"
  }
 },
 "nbformat": 4,
 "nbformat_minor": 5
}
