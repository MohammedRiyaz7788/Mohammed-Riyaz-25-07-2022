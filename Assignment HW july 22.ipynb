{
 "cells": [
  {
   "cell_type": "code",
   "execution_count": 3,
   "id": "0f766dc6",
   "metadata": {},
   "outputs": [],
   "source": [
    "#write a program to accept percentage from the user and display the grade according to the following criteria:\n",
    "#         Marks                                    Grade\n",
    "#         > 90                                        A\n",
    "#         > 80 and <= 90                              B\n",
    "#         >= 60 and <= 80                             C\n",
    "#         below 60                                    D"
   ]
  },
  {
   "cell_type": "code",
   "execution_count": 6,
   "id": "84cfda9b",
   "metadata": {},
   "outputs": [
    {
     "name": "stdout",
     "output_type": "stream",
     "text": [
      "enter the marks43\n",
      "D\n"
     ]
    }
   ],
   "source": [
    "x=int(input(\"enter the marks\"))\n",
    "if x>90:\n",
    "    print(\"A\")\n",
    "elif x>80 and x<=90:\n",
    "    print(\"B\")\n",
    "elif x>=60 and x<=80:\n",
    "    print(\"C\")\n",
    "if x<60:\n",
    "    print(\"D\")"
   ]
  },
  {
   "cell_type": "code",
   "execution_count": 7,
   "id": "a503d31d",
   "metadata": {},
   "outputs": [],
   "source": [
    "#write a program to accept the cost price of a bike and display the road tax to be paid according to the following criteria:\n",
    "#        Cost price (in Rs)                                       Tax\n",
    "#        > 100000                                                  15 %\n",
    "#        > 50000 and <= 100000                                     10%\n",
    "#        <= 50000             \n",
    "#                                                                 5%"
   ]
  },
  {
   "cell_type": "code",
   "execution_count": 10,
   "id": "0c323588",
   "metadata": {},
   "outputs": [
    {
     "name": "stdout",
     "output_type": "stream",
     "text": [
      "enter the cost of bike78000\n",
      "7800.0\n"
     ]
    }
   ],
   "source": [
    "x=int(input(\"enter the cost of bike\"))\n",
    "if x>100000:\n",
    "    print(x*15/100)\n",
    "elif x>50000 and x<=100000:\n",
    "    print(x*10/100)\n",
    "elif x<50000:\n",
    "    print(x*5/100)"
   ]
  },
  {
   "cell_type": "code",
   "execution_count": 11,
   "id": "91b6516f",
   "metadata": {},
   "outputs": [],
   "source": [
    "#write a program to check whether a person is eligible for voting or not"
   ]
  },
  {
   "cell_type": "code",
   "execution_count": 12,
   "id": "9ca46c17",
   "metadata": {},
   "outputs": [
    {
     "name": "stdout",
     "output_type": "stream",
     "text": [
      "enter the age23\n",
      "you are eligible for voting\n"
     ]
    }
   ],
   "source": [
    "x=int(input(\"enter the age\"))\n",
    "if x>18:\n",
    "    print(\"you are eligible for voting\")\n",
    "elif x<18:\n",
    "    print(\"you are not eligible for voting\")"
   ]
  },
  {
   "cell_type": "code",
   "execution_count": 13,
   "id": "c84fb448",
   "metadata": {},
   "outputs": [],
   "source": [
    "#write a program to check whether a number entered by user is even or odd"
   ]
  },
  {
   "cell_type": "code",
   "execution_count": 14,
   "id": "9e06ae45",
   "metadata": {},
   "outputs": [
    {
     "name": "stdout",
     "output_type": "stream",
     "text": [
      "enter the number5\n",
      "odd\n"
     ]
    }
   ],
   "source": [
    "x=int(input(\"enter the number\"))\n",
    "if x%2==0:\n",
    "    print(\"even\")\n",
    "else:\n",
    "    print(\"odd\")"
   ]
  },
  {
   "cell_type": "code",
   "execution_count": 15,
   "id": "47bd9139",
   "metadata": {},
   "outputs": [],
   "source": [
    "#write a program to check whether a number is divisible by 7 or not"
   ]
  },
  {
   "cell_type": "code",
   "execution_count": 19,
   "id": "25878370",
   "metadata": {},
   "outputs": [
    {
     "name": "stdout",
     "output_type": "stream",
     "text": [
      "enter the number49\n",
      "divisible\n"
     ]
    }
   ],
   "source": [
    "x=int(input(\"enter the number\"))\n",
    "if x%7==0:\n",
    "    print(\"divisible\")\n",
    "else:\n",
    "    print(\"not divisible\")"
   ]
  },
  {
   "cell_type": "code",
   "execution_count": 20,
   "id": "cd1ec1bf",
   "metadata": {},
   "outputs": [],
   "source": [
    "#write a program to display \"Hello\" if a number entered by a user is a multiple of five otherwise print \"bye\""
   ]
  },
  {
   "cell_type": "code",
   "execution_count": 22,
   "id": "5ad93ff4",
   "metadata": {},
   "outputs": [
    {
     "name": "stdout",
     "output_type": "stream",
     "text": [
      "enter the number40\n",
      "hello\n"
     ]
    }
   ],
   "source": [
    "x=int(input(\"enter the number\"))\n",
    "if  x%5==0:\n",
    "    print(\"hello\")\n",
    "else:\n",
    "    print(\"bye\")"
   ]
  },
  {
   "cell_type": "code",
   "execution_count": 23,
   "id": "284c7bdd",
   "metadata": {},
   "outputs": [],
   "source": [
    "#Write a program to calculate the electricity bill (accept number of unit from user) according to the following criteria :\n",
    "#    Unit                                                     Price  \n",
    "#First 100 units                                               no charge\n",
    "#Next 100 units                                              Rs 5 per unit\n",
    "#After 200 units                                             Rs 10 per unit\n",
    "#(For example if input unit is 350 than total bill amount is Rs2000)"
   ]
  },
  {
   "cell_type": "code",
   "execution_count": 25,
   "id": "dbd6c7c4",
   "metadata": {},
   "outputs": [
    {
     "name": "stdout",
     "output_type": "stream",
     "text": [
      "enter how many units :350\n",
      "you have bill of :  2000\n"
     ]
    }
   ],
   "source": [
    "x=int(input(\"enter how many units :\"))\n",
    "y=0\n",
    "if x<=100:\n",
    "    print(\"no charge\")\n",
    "elif x>100 and x<=200:\n",
    "    print(\"you have bill of : \", (x-100)*5 )\n",
    "elif x>200:\n",
    "    print(\"you have bill of : \", 500+(x-200)*10)"
   ]
  },
  {
   "cell_type": "code",
   "execution_count": 26,
   "id": "2b4210aa",
   "metadata": {},
   "outputs": [],
   "source": [
    "#Write a program to check whether the last digit of a number( entered by user ) is \n",
    "#divisible by 3 or not"
   ]
  },
  {
   "cell_type": "code",
   "execution_count": 28,
   "id": "c3ca32a2",
   "metadata": {},
   "outputs": [
    {
     "name": "stdout",
     "output_type": "stream",
     "text": [
      "enter the number29\n",
      "the last digit is divisible by 3\n"
     ]
    }
   ],
   "source": [
    "x=int(input(\"enter the number\"))\n",
    "y=x%10\n",
    "if y%3==0:\n",
    "    print(\"the last digit is divisible by 3\")\n",
    "else:\n",
    "    print(\"the last digit is not divisible by 3\")"
   ]
  },
  {
   "cell_type": "code",
   "execution_count": null,
   "id": "135321b0",
   "metadata": {},
   "outputs": [],
   "source": []
  }
 ],
 "metadata": {
  "kernelspec": {
   "display_name": "Python 3 (ipykernel)",
   "language": "python",
   "name": "python3"
  },
  "language_info": {
   "codemirror_mode": {
    "name": "ipython",
    "version": 3
   },
   "file_extension": ".py",
   "mimetype": "text/x-python",
   "name": "python",
   "nbconvert_exporter": "python",
   "pygments_lexer": "ipython3",
   "version": "3.9.12"
  }
 },
 "nbformat": 4,
 "nbformat_minor": 5
}
